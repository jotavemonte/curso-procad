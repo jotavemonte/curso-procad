{
 "cells": [
  {
   "cell_type": "markdown",
   "metadata": {},
   "source": [
    "# Python: Conhecendo a linguagem e suas possibilidades\n",
    "\n",
    "Para baixar o curso acesse: https://github.com/jotavemonte/curso-procad\n",
    "\n",
    "![title](logo.png)\n",
    "\n",
    "Python é uma das linguagens de programação mais usadas atualmente e merece uma atenção especial por algumas particularidades que aqui serão listadas e que poderão ser observadas ao longo desta aula. Segue a lista:\n",
    "\n",
    "* Python é fácil de aprender\n",
    "* Fácil de implementar\n",
    "* É uma linguagem interpretada\n",
    "* Possui vasta comunidade\n",
    "* Muitas bibliotecas\n",
    "* Multiplataforma\n",
    "\n",
    "A partir deste momento focaremos nos princípios básicos da lingaguem e posteriormente apresentarei exemplos de aplicação.\n",
    "\n",
    "## Variáveis\n",
    "\n",
    "Python trás a facilidade de não precisarmos definir os tipos das variáveis, pois o interpretador faz isso por nós. Definir variáveis em Python é bem simples, basta escolhermos um nome e atribuir um valor a ela."
   ]
  },
  {
   "cell_type": "code",
   "execution_count": 2,
   "metadata": {},
   "outputs": [
    {
     "name": "stdout",
     "output_type": "stream",
     "text": [
      "<class 'int'>\n",
      "------\n",
      "<class 'float'>\n",
      "------\n",
      "<class 'str'>\n",
      "------\n",
      "<class 'list'>\n",
      "------\n",
      "<class 'tuple'>\n",
      "------\n",
      "<class 'bool'>\n",
      "------\n",
      "<class 'dict'>\n"
     ]
    }
   ],
   "source": [
    "from IPython.core.debugger import Tracer\n",
    "\n",
    "a = 1\n",
    "b = 1.0\n",
    "c = \"c é 1.0\"\n",
    "d = [1,2, \"feijao\", True, 1.2, {\"um\":\"dicionario\"}]\n",
    "e = (1,2)\n",
    "f = True\n",
    "g = {\"emojis são divertidos\" : \"😁\"}\n",
    "\n",
    "print(type(a))\n",
    "print('------')\n",
    "print(type(b))\n",
    "print('------')\n",
    "print(type(c))\n",
    "print('------')\n",
    "print(type(d))\n",
    "print('------')\n",
    "print(type(e))\n",
    "print('------')\n",
    "print(type(f))\n",
    "print('------')\n",
    "print(type(g))"
   ]
  },
  {
   "cell_type": "markdown",
   "metadata": {},
   "source": [
    "## Listas, Tuplas, Sets e Strings\n",
    "\n",
    "Esses são três tipos do python que são agrupamentos de valores. A lista pode armazenar qualquer tipo de valor, a tupla não pode ser posteriormente modificada e os sets não podem possuir números repetidos. A seguir mostrarei em código como tudo funciona."
   ]
  },
  {
   "cell_type": "code",
   "execution_count": 3,
   "metadata": {},
   "outputs": [
    {
     "name": "stdout",
     "output_type": "stream",
     "text": [
      "acessando conteúdo da lista:  1 {'oi': 'io'}\n"
     ]
    }
   ],
   "source": [
    "lista = [1,2,3,4.0,\"feijao\",{\"oi\":\"io\"}]\n",
    "tupla = (1,2,3,\"oi\")\n",
    "\n",
    "print(\"acessando conteúdo da lista: \", lista[0], lista[-1])\n"
   ]
  },
  {
   "cell_type": "code",
   "execution_count": 4,
   "metadata": {},
   "outputs": [
    {
     "name": "stdout",
     "output_type": "stream",
     "text": [
      "nova lista:  [1, 'fui modificado', 3, 4.0, 'feijao', {'oi': 'io'}]\n"
     ]
    }
   ],
   "source": [
    "#modificando conteúdo da lista\n",
    "lista[1] = \"fui modificado\"\n",
    "\n",
    "print(\"nova lista: \", lista)"
   ]
  },
  {
   "cell_type": "code",
   "execution_count": 5,
   "metadata": {},
   "outputs": [
    {
     "name": "stdout",
     "output_type": "stream",
     "text": [
      "nova lista:  [1, 'fui modificado', 3, 4.0, 'feijao', {'oi': 'io'}, 'Fui adicionado']\n"
     ]
    }
   ],
   "source": [
    "#adicionando conteúdo\n",
    "lista.append(\"Fui adicionado\")\n",
    "\n",
    "print(\"nova lista: \", lista)"
   ]
  },
  {
   "cell_type": "code",
   "execution_count": 6,
   "metadata": {},
   "outputs": [
    {
     "name": "stdout",
     "output_type": "stream",
     "text": [
      "nova lista:  ['fui modificado', 3, 4.0, 'feijao', {'oi': 'io'}, 'Fui adicionado']\n"
     ]
    }
   ],
   "source": [
    "#removendo conteúdo de um determinado ponto\n",
    "lista.pop(0)\n",
    "\n",
    "print(\"nova lista: \", lista)"
   ]
  },
  {
   "cell_type": "code",
   "execution_count": 7,
   "metadata": {},
   "outputs": [
    {
     "name": "stdout",
     "output_type": "stream",
     "text": [
      "['eu', 'sou', 'outra', 'lista', 'fui modificado', 3, 4.0, 'feijao', {'oi': 'io'}, 'Fui adicionado']\n"
     ]
    }
   ],
   "source": [
    "outra_lista = ['eu','sou','outra','lista']\n",
    "#concatenando listas\n",
    "lista = outra_lista + lista\n",
    "print(lista)"
   ]
  },
  {
   "cell_type": "markdown",
   "metadata": {},
   "source": [
    "Para mais possibilidades usando listas consultar: https://www.programiz.com/python-programming/methods/tuple"
   ]
  },
  {
   "cell_type": "code",
   "execution_count": 8,
   "metadata": {},
   "outputs": [
    {
     "name": "stdout",
     "output_type": "stream",
     "text": [
      "a tupla:  (1, 2, 3, 'oi')\n",
      "o erro:  'tuple' object does not support item assignment\n"
     ]
    }
   ],
   "source": [
    "# tenta modificar a tupla e mostra o erro\n",
    "try:\n",
    "    tupla[1] = \"fui modificado\"\n",
    "except Exception as e:\n",
    "    print('a tupla: ', tupla)\n",
    "    print('o erro: ', e)\n",
    "    "
   ]
  },
  {
   "cell_type": "code",
   "execution_count": 9,
   "metadata": {},
   "outputs": [
    {
     "name": "stdout",
     "output_type": "stream",
     "text": [
      "'tuple' object has no attribute 'append'\n"
     ]
    }
   ],
   "source": [
    "#tentando adicionar objetos à tupla\n",
    "try:\n",
    "    tupla.append('0')\n",
    "except Exception as e:\n",
    "    print(e)"
   ]
  },
  {
   "cell_type": "code",
   "execution_count": 10,
   "metadata": {},
   "outputs": [
    {
     "name": "stdout",
     "output_type": "stream",
     "text": [
      "<class 'tuple'>\n",
      "(0, 1, 2, 3, 4, 5)\n"
     ]
    }
   ],
   "source": [
    "#concatenando tuplas\n",
    "tupla_a = (0,1,2)\n",
    "tupla_b = (3,4,5)\n",
    "\n",
    "resultado = tupla_a + tupla_b\n",
    "print(type(resultado))\n",
    "print(resultado)"
   ]
  },
  {
   "cell_type": "markdown",
   "metadata": {},
   "source": [
    "Para mais possibilidades usando tuplas consultar: https://www.programiz.com/python-programming/methods/tuple"
   ]
  },
  {
   "cell_type": "code",
   "execution_count": 11,
   "metadata": {},
   "outputs": [
    {
     "name": "stdout",
     "output_type": "stream",
     "text": [
      "{1, 2, 3, 4, 5}\n",
      "{1, 2, 3, 4, 5, 26}\n"
     ]
    }
   ],
   "source": [
    "lista_nao_set = [2, 4, 1, 3, 5, 3, 4, 2, 5]\n",
    "set_da_lista = set(lista_nao_set)\n",
    "print(set_da_lista)\n",
    "set_da_lista.add(26)\n",
    "print(set_da_lista)"
   ]
  },
  {
   "cell_type": "markdown",
   "metadata": {},
   "source": [
    "Para mais possibilidades usando sets consultar: https://www.programiz.com/python-programming/methods/set"
   ]
  },
  {
   "cell_type": "code",
   "execution_count": 12,
   "metadata": {},
   "outputs": [
    {
     "name": "stdout",
     "output_type": "stream",
     "text": [
      "eu sou uma string, ou será que não?\n",
      "eu sou uma string, ou será que\n",
      "EU SOU UMA STRING, OU SERÁ QUE NÃO?\n",
      "['eu sou uma string', ' ou será que não?']\n"
     ]
    }
   ],
   "source": [
    "# uma lista diferente: string\n",
    "string = \"eu sou uma string\"\n",
    "outra_string = \", ou será que não?\"\n",
    "#concatenando\n",
    "string = string + outra_string\n",
    "print(string)\n",
    "print(string[0:-5])\n",
    "print(string.upper())\n",
    "print(string.split(','))"
   ]
  },
  {
   "cell_type": "markdown",
   "metadata": {},
   "source": [
    "Para mais possibilidades usando strings consultar: https://www.programiz.com/python-programming/methods/strings"
   ]
  },
  {
   "cell_type": "markdown",
   "metadata": {},
   "source": [
    "## Loops em Python\n",
    "\n",
    "Loops são essenciais para interagir com uma quantidade massiva de dados, realizando tarefas um determinado (ou não) número de vezes. Em python temos dois tipos de loop que veremos a seguir."
   ]
  },
  {
   "cell_type": "code",
   "execution_count": 13,
   "metadata": {},
   "outputs": [
    {
     "name": "stdout",
     "output_type": "stream",
     "text": [
      "1\n",
      "2\n",
      "3\n",
      "4\n",
      "5\n",
      "6\n"
     ]
    }
   ],
   "source": [
    "lista = [1,2,3,4,'5','6']\n",
    "\n",
    "for element in lista:\n",
    "    print(element)"
   ]
  },
  {
   "cell_type": "code",
   "execution_count": 14,
   "metadata": {},
   "outputs": [
    {
     "name": "stdout",
     "output_type": "stream",
     "text": [
      "e                     fui concatenado em cada iteração\n",
      "u                     fui concatenado em cada iteração\n",
      "                      fui concatenado em cada iteração\n",
      "s                     fui concatenado em cada iteração\n",
      "o                     fui concatenado em cada iteração\n",
      "u                     fui concatenado em cada iteração\n",
      "                      fui concatenado em cada iteração\n",
      "u                     fui concatenado em cada iteração\n",
      "m                     fui concatenado em cada iteração\n",
      "a                     fui concatenado em cada iteração\n",
      "                      fui concatenado em cada iteração\n",
      "s                     fui concatenado em cada iteração\n",
      "t                     fui concatenado em cada iteração\n",
      "r                     fui concatenado em cada iteração\n",
      "i                     fui concatenado em cada iteração\n",
      "n                     fui concatenado em cada iteração\n",
      "g                     fui concatenado em cada iteração\n",
      "                      fui concatenado em cada iteração\n",
      "g                     fui concatenado em cada iteração\n",
      "r                     fui concatenado em cada iteração\n",
      "a                     fui concatenado em cada iteração\n",
      "a                     fui concatenado em cada iteração\n",
      "a                     fui concatenado em cada iteração\n",
      "a                     fui concatenado em cada iteração\n",
      "a                     fui concatenado em cada iteração\n",
      "n                     fui concatenado em cada iteração\n",
      "d                     fui concatenado em cada iteração\n",
      "e                     fui concatenado em cada iteração\n"
     ]
    }
   ],
   "source": [
    "string = 'eu sou uma string graaaaande'\n",
    "\n",
    "for element in string:\n",
    "    print(element + '                     fui concatenado em cada iteração')"
   ]
  },
  {
   "cell_type": "code",
   "execution_count": 15,
   "metadata": {},
   "outputs": [
    {
     "name": "stdout",
     "output_type": "stream",
     "text": [
      "eu\n",
      "sou\n",
      "as\n",
      "chaves\n",
      "----------------\n",
      "eu\n",
      "sou\n",
      "o\n",
      "valor\n"
     ]
    }
   ],
   "source": [
    "dicionario = {\n",
    "    \"eu\" : \"eu\",\n",
    "    \"sou\": \"sou\",\n",
    "    \"as\" : \"o\",\n",
    "    \"chaves\" : \"valor\"\n",
    "}\n",
    "\n",
    "for key, _ in dicionario.items():\n",
    "    print (key)\n",
    "\n",
    "print('----------------')\n",
    "    \n",
    "    \n",
    "for _, value in dicionario.items():\n",
    "    print (value)"
   ]
  },
  {
   "cell_type": "code",
   "execution_count": 16,
   "metadata": {},
   "outputs": [
    {
     "name": "stdout",
     "output_type": "stream",
     "text": [
      "0\n",
      "1\n",
      "2\n",
      "3\n",
      "4\n",
      "5\n",
      "6\n",
      "7\n",
      "8\n",
      "9\n",
      "10\n",
      "11\n",
      "12\n",
      "13\n",
      "14\n",
      "15\n",
      "16\n",
      "17\n",
      "18\n",
      "19\n"
     ]
    }
   ],
   "source": [
    "a = 0\n",
    "while a < 20:\n",
    "    print(a)\n",
    "    a += 1\n",
    "\n",
    "# obs: para loop infinito é só falar que while True: (só faça isso se tiver certeza do que ta fazendo)"
   ]
  },
  {
   "cell_type": "markdown",
   "metadata": {},
   "source": [
    "### Bonus: Gerando Listas de Listas\n",
    "\n",
    "Em python é possível gerar listas a partir de listas como veremos a seguir:"
   ]
  },
  {
   "cell_type": "code",
   "execution_count": 17,
   "metadata": {},
   "outputs": [
    {
     "name": "stdout",
     "output_type": "stream",
     "text": [
      "[1, 4, 9, 16, 25, 36, 49, 64, 81]\n"
     ]
    }
   ],
   "source": [
    "lista_gerada_por_lista = [x**2 for x in [1,2,3,4,5,6,7,8,9]]\n",
    "                         #[logica para variavel em lista]\n",
    "print(lista_gerada_por_lista)"
   ]
  },
  {
   "cell_type": "markdown",
   "metadata": {},
   "source": [
    "## Condicionais\n",
    "\n",
    "Em python existem 3 tipos de condicionais\n",
    "\n",
    "* if: Padrão. Se satisfizer a condição executa o código\n",
    "* elif: É o famoso se não. Se não executar o if sou executado se minha condição for satisfeita\n",
    "* else: Ninguém quer executar o código? Eu quero\n",
    "\n",
    "Veremos exemplo a seguir"
   ]
  },
  {
   "cell_type": "code",
   "execution_count": 18,
   "metadata": {},
   "outputs": [
    {
     "name": "stdout",
     "output_type": "stream",
     "text": [
      "condicao b executada\n",
      "condicao a executada\n",
      "condicao c executada\n",
      "  \n"
     ]
    }
   ],
   "source": [
    "def condicionais(a):\n",
    "    if a > 2:\n",
    "        print('condicao a executada')\n",
    "    elif 1 < a <= 2:\n",
    "        print('condicao b executada')\n",
    "    else:\n",
    "        print('condicao c executada')\n",
    "    return \"\"\n",
    "\n",
    "print(\n",
    "    condicionais(2),\n",
    "    condicionais(3),\n",
    "    condicionais(1)\n",
    ")"
   ]
  },
  {
   "cell_type": "markdown",
   "metadata": {},
   "source": [
    "## Dicionários: Outra maneira de lidar com dados\n",
    "\n",
    "Os dicionários, assim como as listas, armazenam dados. Um ponto relevante sobre os dicionários é que eles se assemelham ao json, formato padrão de transmissão de dados na internet. Essa semelhança faz com que o python consiga fazer uma conversão direta entre eles. Segue exemplos de interações com dicionários"
   ]
  },
  {
   "cell_type": "code",
   "execution_count": 19,
   "metadata": {},
   "outputs": [
    {
     "name": "stdout",
     "output_type": "stream",
     "text": [
      "dicionario itens diversos\n"
     ]
    }
   ],
   "source": [
    "#criando dicionários. Os dicionários são criados por declarar charves\n",
    "dicionario = {\n",
    "    'um':'dicionario',\n",
    "    'com':'itens',\n",
    "    'variados':'diversos'\n",
    "}\n",
    "#acessando o dicionario\n",
    "print(\n",
    "    dicionario[\"um\"],\n",
    "    dicionario[\"com\"],\n",
    "    dicionario[\"variados\"]\n",
    ")"
   ]
  },
  {
   "cell_type": "code",
   "execution_count": 20,
   "metadata": {},
   "outputs": [
    {
     "name": "stdout",
     "output_type": "stream",
     "text": [
      "{'um': 'dicionario', 'com': 'itens', 'variados': 'diversos', 'novo': 'item'}\n"
     ]
    }
   ],
   "source": [
    "#adicionando itens ao dicionario\n",
    "dicionario[\"novo\"] = \"item\"\n",
    "print(dicionario)"
   ]
  },
  {
   "cell_type": "code",
   "execution_count": 21,
   "metadata": {},
   "outputs": [
    {
     "name": "stdout",
     "output_type": "stream",
     "text": [
      "{'um': 'dicionario', 'com': 'itens', 'variados': 'diversos'}\n"
     ]
    }
   ],
   "source": [
    "#removendo item\n",
    "dicionario.pop(\"novo\")\n",
    "print(dicionario)"
   ]
  },
  {
   "cell_type": "code",
   "execution_count": 22,
   "metadata": {},
   "outputs": [
    {
     "data": {
      "text/plain": [
       "dict_items([('um', 'dicionario'), ('com', 'itens'), ('variados', 'diversos')])"
      ]
     },
     "execution_count": 22,
     "metadata": {},
     "output_type": "execute_result"
    }
   ],
   "source": [
    "#retornando uma lista com chaves e valores do dicionário em forma de tuplas\n",
    "dicionario.items()"
   ]
  },
  {
   "cell_type": "code",
   "execution_count": 23,
   "metadata": {},
   "outputs": [
    {
     "data": {
      "text/plain": [
       "dict_values(['dicionario', 'itens', 'diversos'])"
      ]
     },
     "execution_count": 23,
     "metadata": {},
     "output_type": "execute_result"
    }
   ],
   "source": [
    "#retornando valores\n",
    "dicionario.values()"
   ]
  },
  {
   "cell_type": "markdown",
   "metadata": {},
   "source": [
    "Para mais possibilidades usando dicionários consultar: https://www.programiz.com/python-programming/methods/dictionary"
   ]
  },
  {
   "cell_type": "markdown",
   "metadata": {},
   "source": [
    "## Funções em Python\n",
    "\n",
    "Funções em Python têm o dever de definir um código reusável e um novo fluxo para os dados, além de prover uma forma de executar o mesmo código para parâmetros diferentes. A seguir teremos algumas possibilidades com funções:"
   ]
  },
  {
   "cell_type": "code",
   "execution_count": 24,
   "metadata": {},
   "outputs": [
    {
     "name": "stdout",
     "output_type": "stream",
     "text": [
      "20\n",
      "1.0\n",
      "(1, 2, 3, 4)\n",
      "{'c': 'd'}\n",
      "eu sou o produto da função\n"
     ]
    }
   ],
   "source": [
    "def exemplo(a, b, *args, **kwargs):\n",
    "    print(a)\n",
    "    print(b)\n",
    "    if args:\n",
    "        print(args)\n",
    "    if kwargs:\n",
    "        print(kwargs)\n",
    "    return \"eu sou o produto da função\"\n",
    "\n",
    "retorno = exemplo(a, b, *[1, 2, 3, 4], **{\"c\":\"d\"})\n",
    "print(retorno)"
   ]
  },
  {
   "cell_type": "code",
   "execution_count": 25,
   "metadata": {},
   "outputs": [
    {
     "name": "stdout",
     "output_type": "stream",
     "text": [
      "{'carro': 'preto', 'moto': 'branca', 'caminhão': 'vermelho'}\n"
     ]
    }
   ],
   "source": [
    "def exemplob(**kwargs):\n",
    "    return kwargs\n",
    "\n",
    "func_dict = exemplob(carro=\"preto\", moto=\"branca\", caminhão=\"vermelho\")\n",
    "print(func_dict)"
   ]
  },
  {
   "cell_type": "markdown",
   "metadata": {},
   "source": [
    "## Objetos em Python\n",
    "\n",
    "A programação orientada a objetos é o paradigma de programação mais popular atualmente, pois com ele o código fica altamente reusável, customizável, adaptável e é extremamente fácil de manipular e documentar. Aqui daremos uma leve olhada sobre o mundo dos objetos em Python para não passar em branco.\n",
    "\n",
    "Um objeto é composto de características (propriedades) e funcionalidades atreladas a ele (métodos). O objeto é feito por uma fôrma predefinida e pode herdar características de outros objetos. Vamos aos exemplos."
   ]
  },
  {
   "cell_type": "code",
   "execution_count": 26,
   "metadata": {},
   "outputs": [
    {
     "name": "stdout",
     "output_type": "stream",
     "text": [
      "sobre o vectra: ---\n",
      "True 4 True\n",
      "vermelho chevrolet 1999 jv\n",
      "sobre qualquer carro: ---\n",
      "True 4 True\n"
     ]
    }
   ],
   "source": [
    "class Carro:\n",
    "    possui_freio = True\n",
    "    numero_rodas = 4\n",
    "    possui_volante = True\n",
    "    \n",
    "    def __init__(self, cor, marca, ano, proprietario=\"loja\"):\n",
    "        self.cor = cor\n",
    "        self.marca = marca\n",
    "        self.ano = ano\n",
    "        self.proprietario = proprietario\n",
    "        self.velocidade = 0\n",
    "        \n",
    "    def acelerar(self):\n",
    "        print('o veiculo acelerou')\n",
    "        self.velocidade += 10\n",
    "        \n",
    "    def freiar(self):\n",
    "        print('o veiculo desacelerou')\n",
    "        self.velocidade -= 10\n",
    "        \n",
    "    def parar(self):\n",
    "        print('o veiculo parou')\n",
    "        self.velocidade = 0\n",
    "    \n",
    "vectra = Carro(\"vermelho\", \"chevrolet\", \"1999\", proprietario=\"jv\")\n",
    "print('sobre o vectra: ---')\n",
    "print(vectra.possui_freio, vectra.numero_rodas, vectra.possui_volante)\n",
    "print(vectra.cor, vectra.marca, vectra.ano, vectra.proprietario)\n",
    "print('sobre qualquer carro: ---')\n",
    "print(Carro.possui_freio, Carro.numero_rodas, Carro.possui_volante)\n"
   ]
  },
  {
   "cell_type": "code",
   "execution_count": 27,
   "metadata": {},
   "outputs": [
    {
     "name": "stdout",
     "output_type": "stream",
     "text": [
      "0\n",
      "o veiculo acelerou\n",
      "o veiculo acelerou\n",
      "o veiculo acelerou\n",
      "o veiculo acelerou\n",
      "o veiculo acelerou\n",
      "50\n",
      "o veiculo desacelerou\n",
      "o veiculo desacelerou\n",
      "o veiculo desacelerou\n",
      "20\n",
      "o veiculo parou\n",
      "0\n"
     ]
    }
   ],
   "source": [
    "#acelerando o vectra\n",
    "print(vectra.velocidade)\n",
    "vectra.acelerar()\n",
    "vectra.acelerar()\n",
    "vectra.acelerar()\n",
    "vectra.acelerar()\n",
    "vectra.acelerar()\n",
    "print(vectra.velocidade)\n",
    "vectra.freiar()\n",
    "vectra.freiar()\n",
    "vectra.freiar()\n",
    "print(vectra.velocidade)\n",
    "vectra.parar()\n",
    "print(vectra.velocidade)"
   ]
  },
  {
   "cell_type": "code",
   "execution_count": 28,
   "metadata": {},
   "outputs": [
    {
     "name": "stdout",
     "output_type": "stream",
     "text": [
      "'Quadriciculo' object has no attribute 'cor'\n",
      "0\n",
      "o veiculo acelerou\n",
      "o veiculo acelerou\n",
      "o veiculo acelerou\n",
      "o veiculo acelerou\n",
      "40\n",
      "o veiculo desacelerou\n",
      "o veiculo desacelerou\n",
      "20\n",
      "o veiculo parou\n",
      "0\n"
     ]
    }
   ],
   "source": [
    "class Quadriciculo(Carro):\n",
    "    def __init__(self):\n",
    "        self.velocidade = 0\n",
    "\n",
    "meu_quadriciculo = Quadriciculo()\n",
    "\n",
    "try:\n",
    "    print(meu_quadriciculo.cor)\n",
    "except Exception as e:\n",
    "    print(e)\n",
    "\n",
    "print(meu_quadriciculo.velocidade)\n",
    "meu_quadriciculo.acelerar()\n",
    "meu_quadriciculo.acelerar()\n",
    "meu_quadriciculo.acelerar()\n",
    "meu_quadriciculo.acelerar()\n",
    "print(meu_quadriciculo.velocidade)\n",
    "meu_quadriciculo.freiar()\n",
    "meu_quadriciculo.freiar()\n",
    "print(meu_quadriciculo.velocidade)\n",
    "meu_quadriciculo.parar()\n",
    "print(meu_quadriciculo.velocidade)\n"
   ]
  },
  {
   "cell_type": "markdown",
   "metadata": {},
   "source": [
    "## Web Scraping com Python \n",
    "\n",
    "![title](webscraping.png)\n",
    "\n",
    "Web scraping consiste em utilizar bibliotecas combinadas de Python para obter dados de páginas web que são visíveis para o usuário. Um exemplo de aplicação é utilizar python para pegar automaticamente todas as notícias do dia na página principal de um portal e é o que faremos aqui. Para isso utilizaremos 2 bibliotecas do python: *requests* e _beautifulsoup_"
   ]
  },
  {
   "cell_type": "code",
   "execution_count": 29,
   "metadata": {},
   "outputs": [
    {
     "data": {
      "text/plain": [
       "[\" CNJ quer explicações sobre 'novela judicial' de Carlinhos Cachoeira \",\n",
       " ' Ministro quer deslocar médicos do programa para repor cubanos ',\n",
       " ' Foco de Moro na corrupção preocupa especialistas ',\n",
       " ' Temer edita nova MP, e socorro do FGTS às Santas Casas segue até 2022 ',\n",
       " ' Líderes do Congresso preveem aumento também para o Legislativo ',\n",
       " ' Entidades cobram STF e lançam manual contra censura escolar ',\n",
       " ' Depoimento inédito da delação de Palocci terá Dilma como alvo ',\n",
       " ' Acordo para redução de açúcar exclui principais produtos ',\n",
       " ' Navio brasileiro é atacado por chineses em disputa por atum ',\n",
       " ' Conmebol abre processo disciplinar contra o River ',\n",
       " ' Sonda InSight transmite visão espetacular da superfície de Marte ',\n",
       " \" Xuxa desabafa contra produtora: 'Fui roubada e desrespeitada' \",\n",
       " \" GM dos EUA 'mata' Cruze, Impala e Volt e pode demitir 14 mil \",\n",
       " ' Por que um app de biquíni virou centro de polêmica do Facebook ',\n",
       " ' Vídeo mostra interior da casa em que Daniel foi espancado    ',\n",
       " ' Trabalho no Canadá? Empresas oferecem salários de até R$ 16 mil ',\n",
       " \" Afinal, existe uma 'caixa-preta' do BNDES? E o que ela poderia revelar? \",\n",
       " ' Após 3 anos, vítimas de Mariana enfim projetam suas novas casas ',\n",
       " ' Dono da Crefisa tenta penhorar título de ex-presidente do Palmeiras ',\n",
       " ' Com PSG ameaçado, veja o que está em jogo na Liga ',\n",
       " ' \"Enfrentar o Spider vale mais que título\", diz rival ',\n",
       " ' Vaias em campo, apoio no vestiário ',\n",
       " ' Cruzeiro oferece R$ 20 milhões e mais Sassá ao Santos por atacante ',\n",
       " ' Recluso, Felipão viaja e evita festa após título do Palmeiras ',\n",
       " ' No Placar UOL, você tem classificação em tempo real e 10 times favoritos ',\n",
       " ' Pietro Fittipaldi tem problemas em 1º teste na F-1; Bottas lidera ',\n",
       " ' Descobridor de Bernard cobra R$ 3,6 mi por venda ao Shakhtar ',\n",
       " \" Grêmio 'congela' planejamento de 2019 até confirmar Renato \",\n",
       " ' Gomes: Lisca faz coisa de doido e salva Ceará de rebaixamento ',\n",
       " ' Risco de queda no Brasileiro esvazia Sul-Americana no Flu ',\n",
       " ' Santos e Iranduba vão à semi, e Libertadores pode ter final brasileira ',\n",
       " ' Justiça nega pedido, e Santos perderá R$ 8 mi por Felipe Anderson ',\n",
       " ' RedeTV! escala Silvio Luiz para narrar campeonato Inglês ',\n",
       " ' SP recebe New Order, L7, Morrissey e Soul Asylum ',\n",
       " ' Evandro, Catia e Caique formam a décima roça ',\n",
       " ' Caetano: \"Eu não tenho talento para música\" ',\n",
       " ' Comediante não poupará eleito ',\n",
       " ' Após Silvio dizer que Mara é injustiçada, SBT blinda apresentadora ',\n",
       " ' Myrian Rios diz que Roberto Carlos a transformou em mulher ',\n",
       " ' Bate-papo UOL mostra quem está perto e dá acesso rápido às salas ',\n",
       " ' Stycer: Com cara de velha, novela busca solucionar crise do gênero ',\n",
       " ' Ariana Grande lança teaser cheio de participações especiais ',\n",
       " \" Trailer mostra o 'mundo secreto' de Artemis Fowl; assista \",\n",
       " ' Gotham Awards premia Domando o Destino, E. Hawke e Toni Collette ',\n",
       " ' Revelação de 100 fotos De R$ 46,00 Por R$ 21,00 ',\n",
       " ' Saúde pode levar médico para área descoberta após saída de cubanos ',\n",
       " ' SP: Mauro Ricardo será secretário de Governo ',\n",
       " ' Críticas à OAB-SP são injustas, diz candidato ',\n",
       " ' 62% optam pelo ensino a distância ',\n",
       " ' PM diz ter prendido sucessor de Fernandinho Beira-Mar no Rio ',\n",
       " ' Funcionário do Senado francês é detido por suspeita de espionagem ',\n",
       " ' Viaje pelo mundo com vídeos 360° do app de realidade virtual do UOL ',\n",
       " ' ITA divulga gabaritos da primeira fase do vestibular 2019 ',\n",
       " ' Presos denunciam irregularidades em penitenciária de Bangu (RJ) ',\n",
       " ' Testemunha da Odebrecht não tomou veneno, diz investigação ',\n",
       " ' Audiência pública no DF é suspensa após confusão generalizada ',\n",
       " ' Deic prende líder de quadrilha que assaltava condomínios em SP ',\n",
       " ' Pesquisadores identificam 5 perfis de uso abusivo de álcool ',\n",
       " ' Escola em Curitiba ensina criança a montar e pilotar drone ',\n",
       " ' Empresa norueguesa usará restos de peixe para produzir biogás ',\n",
       " ' Tie-dye: confira como usar a estampa de maneira elegante ',\n",
       " \" Veja 40 gírias atuais que estão 'hitando' nas redes sociais \",\n",
       " ' Luiza Sahd: Você sabe diferenciar paquera de assédio? ',\n",
       " \" Adam Sandler 'invade' casamento; veja mais 'celebridades penetras' \",\n",
       " ' Mariana Goldfarb aposta no biquíni branco em praia ',\n",
       " ' Gânglios inchados, perda de peso e fadiga são sinais de linfoma ',\n",
       " ' Entenda as palavras usadas por quem é praticante de corridas ',\n",
       " ' Estratégias para melhor aproveitar os benefícios dos alimentos ',\n",
       " ' Suco para intensificar o bronzeado: receita é rica em betacaroteno ']"
      ]
     },
     "metadata": {},
     "output_type": "display_data"
    }
   ],
   "source": [
    "import requests\n",
    "from bs4 import BeautifulSoup\n",
    "from IPython.display import display\n",
    "\n",
    "page = requests.get('https://www.uol.com.br/')\n",
    "soup = BeautifulSoup(page.text, 'html.parser')\n",
    "lista = soup.find_all(class_=\"article_title\")\n",
    "lista = [x.text for x in lista]\n",
    "display(lista)\n"
   ]
  },
  {
   "cell_type": "markdown",
   "metadata": {},
   "source": [
    "## APIs com Python\n",
    "\n",
    "![title](api-321x250.png)\n",
    "\n",
    "APIs (Application Programming Interface) é uma interface que soluções e serviços oferecem para interação com seu banco de dados, ou com alguma funcionalidade que oferece. APIs são disponibilizadas por uma infinidade de aplicações. Dentre elas estão: Bancos, redes sociais, portais da transparência, mercado financeiro e etc.\n",
    "\n",
    "Aqui utilizaremos a API de um serviço que oferece dados de criptomoedas: https://coinmarketcap.com/. Segue o exemplo"
   ]
  },
  {
   "cell_type": "code",
   "execution_count": 30,
   "metadata": {},
   "outputs": [
    {
     "data": {
      "text/html": [
       "<div>\n",
       "<style scoped>\n",
       "    .dataframe tbody tr th:only-of-type {\n",
       "        vertical-align: middle;\n",
       "    }\n",
       "\n",
       "    .dataframe tbody tr th {\n",
       "        vertical-align: top;\n",
       "    }\n",
       "\n",
       "    .dataframe thead th {\n",
       "        text-align: right;\n",
       "    }\n",
       "</style>\n",
       "<table border=\"1\" class=\"dataframe\">\n",
       "  <thead>\n",
       "    <tr style=\"text-align: right;\">\n",
       "      <th></th>\n",
       "      <th>nome</th>\n",
       "      <th>preço R$</th>\n",
       "      <th>rank</th>\n",
       "      <th>símbolo</th>\n",
       "    </tr>\n",
       "  </thead>\n",
       "  <tbody>\n",
       "    <tr>\n",
       "      <th>0</th>\n",
       "      <td>Bitcoin</td>\n",
       "      <td>14483.144475</td>\n",
       "      <td>1</td>\n",
       "      <td>BTC</td>\n",
       "    </tr>\n",
       "    <tr>\n",
       "      <th>1</th>\n",
       "      <td>XRP</td>\n",
       "      <td>1.351799</td>\n",
       "      <td>2</td>\n",
       "      <td>XRP</td>\n",
       "    </tr>\n",
       "    <tr>\n",
       "      <th>2</th>\n",
       "      <td>Ethereum</td>\n",
       "      <td>406.417601</td>\n",
       "      <td>3</td>\n",
       "      <td>ETH</td>\n",
       "    </tr>\n",
       "    <tr>\n",
       "      <th>3</th>\n",
       "      <td>Bitcoin Cash</td>\n",
       "      <td>675.738005</td>\n",
       "      <td>4</td>\n",
       "      <td>BCH</td>\n",
       "    </tr>\n",
       "    <tr>\n",
       "      <th>4</th>\n",
       "      <td>EOS</td>\n",
       "      <td>11.498052</td>\n",
       "      <td>5</td>\n",
       "      <td>EOS</td>\n",
       "    </tr>\n",
       "    <tr>\n",
       "      <th>5</th>\n",
       "      <td>Stellar</td>\n",
       "      <td>0.542135</td>\n",
       "      <td>6</td>\n",
       "      <td>XLM</td>\n",
       "    </tr>\n",
       "    <tr>\n",
       "      <th>6</th>\n",
       "      <td>Tether</td>\n",
       "      <td>3.826800</td>\n",
       "      <td>7</td>\n",
       "      <td>USDT</td>\n",
       "    </tr>\n",
       "    <tr>\n",
       "      <th>7</th>\n",
       "      <td>Litecoin</td>\n",
       "      <td>114.613638</td>\n",
       "      <td>8</td>\n",
       "      <td>LTC</td>\n",
       "    </tr>\n",
       "    <tr>\n",
       "      <th>8</th>\n",
       "      <td>Bitcoin SV</td>\n",
       "      <td>361.938035</td>\n",
       "      <td>9</td>\n",
       "      <td>BSV</td>\n",
       "    </tr>\n",
       "    <tr>\n",
       "      <th>9</th>\n",
       "      <td>Cardano</td>\n",
       "      <td>0.134749</td>\n",
       "      <td>10</td>\n",
       "      <td>ADA</td>\n",
       "    </tr>\n",
       "    <tr>\n",
       "      <th>10</th>\n",
       "      <td>Monero</td>\n",
       "      <td>206.616147</td>\n",
       "      <td>11</td>\n",
       "      <td>XMR</td>\n",
       "    </tr>\n",
       "    <tr>\n",
       "      <th>11</th>\n",
       "      <td>TRON</td>\n",
       "      <td>0.044642</td>\n",
       "      <td>12</td>\n",
       "      <td>TRX</td>\n",
       "    </tr>\n",
       "    <tr>\n",
       "      <th>12</th>\n",
       "      <td>Dash</td>\n",
       "      <td>338.007028</td>\n",
       "      <td>13</td>\n",
       "      <td>DASH</td>\n",
       "    </tr>\n",
       "    <tr>\n",
       "      <th>13</th>\n",
       "      <td>IOTA</td>\n",
       "      <td>1.024356</td>\n",
       "      <td>14</td>\n",
       "      <td>MIOTA</td>\n",
       "    </tr>\n",
       "    <tr>\n",
       "      <th>14</th>\n",
       "      <td>NEM</td>\n",
       "      <td>0.279918</td>\n",
       "      <td>15</td>\n",
       "      <td>XEM</td>\n",
       "    </tr>\n",
       "    <tr>\n",
       "      <th>15</th>\n",
       "      <td>Binance Coin</td>\n",
       "      <td>18.413350</td>\n",
       "      <td>16</td>\n",
       "      <td>BNB</td>\n",
       "    </tr>\n",
       "    <tr>\n",
       "      <th>16</th>\n",
       "      <td>Ethereum Classic</td>\n",
       "      <td>16.674934</td>\n",
       "      <td>17</td>\n",
       "      <td>ETC</td>\n",
       "    </tr>\n",
       "    <tr>\n",
       "      <th>17</th>\n",
       "      <td>NEO</td>\n",
       "      <td>26.909957</td>\n",
       "      <td>18</td>\n",
       "      <td>NEO</td>\n",
       "    </tr>\n",
       "    <tr>\n",
       "      <th>18</th>\n",
       "      <td>Zcash</td>\n",
       "      <td>257.045336</td>\n",
       "      <td>19</td>\n",
       "      <td>ZEC</td>\n",
       "    </tr>\n",
       "    <tr>\n",
       "      <th>19</th>\n",
       "      <td>Tezos</td>\n",
       "      <td>2.175680</td>\n",
       "      <td>20</td>\n",
       "      <td>XTZ</td>\n",
       "    </tr>\n",
       "    <tr>\n",
       "      <th>20</th>\n",
       "      <td>Bitcoin Gold</td>\n",
       "      <td>68.622535</td>\n",
       "      <td>21</td>\n",
       "      <td>BTG</td>\n",
       "    </tr>\n",
       "    <tr>\n",
       "      <th>21</th>\n",
       "      <td>Dogecoin</td>\n",
       "      <td>0.007910</td>\n",
       "      <td>22</td>\n",
       "      <td>DOGE</td>\n",
       "    </tr>\n",
       "    <tr>\n",
       "      <th>22</th>\n",
       "      <td>VeChain</td>\n",
       "      <td>0.016436</td>\n",
       "      <td>23</td>\n",
       "      <td>VET</td>\n",
       "    </tr>\n",
       "    <tr>\n",
       "      <th>23</th>\n",
       "      <td>Maker</td>\n",
       "      <td>1236.981139</td>\n",
       "      <td>24</td>\n",
       "      <td>MKR</td>\n",
       "    </tr>\n",
       "    <tr>\n",
       "      <th>24</th>\n",
       "      <td>Ontology</td>\n",
       "      <td>2.862895</td>\n",
       "      <td>25</td>\n",
       "      <td>ONT</td>\n",
       "    </tr>\n",
       "    <tr>\n",
       "      <th>25</th>\n",
       "      <td>TrueUSD</td>\n",
       "      <td>3.942289</td>\n",
       "      <td>26</td>\n",
       "      <td>TUSD</td>\n",
       "    </tr>\n",
       "    <tr>\n",
       "      <th>26</th>\n",
       "      <td>OmiseGO</td>\n",
       "      <td>5.264204</td>\n",
       "      <td>27</td>\n",
       "      <td>OMG</td>\n",
       "    </tr>\n",
       "    <tr>\n",
       "      <th>27</th>\n",
       "      <td>0x</td>\n",
       "      <td>1.335024</td>\n",
       "      <td>28</td>\n",
       "      <td>ZRX</td>\n",
       "    </tr>\n",
       "    <tr>\n",
       "      <th>28</th>\n",
       "      <td>USD Coin</td>\n",
       "      <td>4.000213</td>\n",
       "      <td>29</td>\n",
       "      <td>USDC</td>\n",
       "    </tr>\n",
       "    <tr>\n",
       "      <th>29</th>\n",
       "      <td>Decred</td>\n",
       "      <td>74.855091</td>\n",
       "      <td>30</td>\n",
       "      <td>DCR</td>\n",
       "    </tr>\n",
       "    <tr>\n",
       "      <th>...</th>\n",
       "      <td>...</td>\n",
       "      <td>...</td>\n",
       "      <td>...</td>\n",
       "      <td>...</td>\n",
       "    </tr>\n",
       "    <tr>\n",
       "      <th>70</th>\n",
       "      <td>Huobi Token</td>\n",
       "      <td>4.002761</td>\n",
       "      <td>71</td>\n",
       "      <td>HT</td>\n",
       "    </tr>\n",
       "    <tr>\n",
       "      <th>71</th>\n",
       "      <td>KuCoin Shares</td>\n",
       "      <td>2.164843</td>\n",
       "      <td>72</td>\n",
       "      <td>KCS</td>\n",
       "    </tr>\n",
       "    <tr>\n",
       "      <th>72</th>\n",
       "      <td>Insight Chain</td>\n",
       "      <td>1.094353</td>\n",
       "      <td>73</td>\n",
       "      <td>INB</td>\n",
       "    </tr>\n",
       "    <tr>\n",
       "      <th>73</th>\n",
       "      <td>MonaCoin</td>\n",
       "      <td>2.830289</td>\n",
       "      <td>74</td>\n",
       "      <td>MONA</td>\n",
       "    </tr>\n",
       "    <tr>\n",
       "      <th>74</th>\n",
       "      <td>Ravencoin</td>\n",
       "      <td>0.073485</td>\n",
       "      <td>75</td>\n",
       "      <td>RVN</td>\n",
       "    </tr>\n",
       "    <tr>\n",
       "      <th>75</th>\n",
       "      <td>ODEM</td>\n",
       "      <td>0.773377</td>\n",
       "      <td>76</td>\n",
       "      <td>ODE</td>\n",
       "    </tr>\n",
       "    <tr>\n",
       "      <th>76</th>\n",
       "      <td>MOAC</td>\n",
       "      <td>2.678933</td>\n",
       "      <td>77</td>\n",
       "      <td>MOAC</td>\n",
       "    </tr>\n",
       "    <tr>\n",
       "      <th>77</th>\n",
       "      <td>Waltonchain</td>\n",
       "      <td>4.087790</td>\n",
       "      <td>78</td>\n",
       "      <td>WTC</td>\n",
       "    </tr>\n",
       "    <tr>\n",
       "      <th>78</th>\n",
       "      <td>MobileGo</td>\n",
       "      <td>1.603332</td>\n",
       "      <td>79</td>\n",
       "      <td>MGO</td>\n",
       "    </tr>\n",
       "    <tr>\n",
       "      <th>79</th>\n",
       "      <td>QuarkChain</td>\n",
       "      <td>0.193819</td>\n",
       "      <td>80</td>\n",
       "      <td>QKC</td>\n",
       "    </tr>\n",
       "    <tr>\n",
       "      <th>80</th>\n",
       "      <td>Ark</td>\n",
       "      <td>1.426437</td>\n",
       "      <td>81</td>\n",
       "      <td>ARK</td>\n",
       "    </tr>\n",
       "    <tr>\n",
       "      <th>81</th>\n",
       "      <td>Wanchain</td>\n",
       "      <td>1.404011</td>\n",
       "      <td>82</td>\n",
       "      <td>WAN</td>\n",
       "    </tr>\n",
       "    <tr>\n",
       "      <th>82</th>\n",
       "      <td>SIRIN LABS Token</td>\n",
       "      <td>0.300292</td>\n",
       "      <td>83</td>\n",
       "      <td>SRN</td>\n",
       "    </tr>\n",
       "    <tr>\n",
       "      <th>83</th>\n",
       "      <td>GXChain</td>\n",
       "      <td>2.441738</td>\n",
       "      <td>84</td>\n",
       "      <td>GXS</td>\n",
       "    </tr>\n",
       "    <tr>\n",
       "      <th>84</th>\n",
       "      <td>PIVX</td>\n",
       "      <td>2.530279</td>\n",
       "      <td>85</td>\n",
       "      <td>PIVX</td>\n",
       "    </tr>\n",
       "    <tr>\n",
       "      <th>85</th>\n",
       "      <td>Mithril</td>\n",
       "      <td>0.351725</td>\n",
       "      <td>86</td>\n",
       "      <td>MITH</td>\n",
       "    </tr>\n",
       "    <tr>\n",
       "      <th>86</th>\n",
       "      <td>HyperCash</td>\n",
       "      <td>3.287934</td>\n",
       "      <td>87</td>\n",
       "      <td>HC</td>\n",
       "    </tr>\n",
       "    <tr>\n",
       "      <th>87</th>\n",
       "      <td>Polymath</td>\n",
       "      <td>0.482262</td>\n",
       "      <td>88</td>\n",
       "      <td>POLY</td>\n",
       "    </tr>\n",
       "    <tr>\n",
       "      <th>88</th>\n",
       "      <td>Bancor</td>\n",
       "      <td>2.403804</td>\n",
       "      <td>89</td>\n",
       "      <td>BNT</td>\n",
       "    </tr>\n",
       "    <tr>\n",
       "      <th>89</th>\n",
       "      <td>Mixin</td>\n",
       "      <td>307.516966</td>\n",
       "      <td>90</td>\n",
       "      <td>XIN</td>\n",
       "    </tr>\n",
       "    <tr>\n",
       "      <th>90</th>\n",
       "      <td>Theta Token</td>\n",
       "      <td>0.192173</td>\n",
       "      <td>91</td>\n",
       "      <td>THETA</td>\n",
       "    </tr>\n",
       "    <tr>\n",
       "      <th>91</th>\n",
       "      <td>ReddCoin</td>\n",
       "      <td>0.004649</td>\n",
       "      <td>92</td>\n",
       "      <td>RDD</td>\n",
       "    </tr>\n",
       "    <tr>\n",
       "      <th>92</th>\n",
       "      <td>Aion</td>\n",
       "      <td>0.481566</td>\n",
       "      <td>93</td>\n",
       "      <td>AION</td>\n",
       "    </tr>\n",
       "    <tr>\n",
       "      <th>93</th>\n",
       "      <td>Loopring</td>\n",
       "      <td>0.159576</td>\n",
       "      <td>94</td>\n",
       "      <td>LRC</td>\n",
       "    </tr>\n",
       "    <tr>\n",
       "      <th>94</th>\n",
       "      <td>DigixDAO</td>\n",
       "      <td>62.309578</td>\n",
       "      <td>95</td>\n",
       "      <td>DGD</td>\n",
       "    </tr>\n",
       "    <tr>\n",
       "      <th>95</th>\n",
       "      <td>BOScoin</td>\n",
       "      <td>0.270052</td>\n",
       "      <td>96</td>\n",
       "      <td>BOS</td>\n",
       "    </tr>\n",
       "    <tr>\n",
       "      <th>96</th>\n",
       "      <td>Veritaseum</td>\n",
       "      <td>60.258724</td>\n",
       "      <td>97</td>\n",
       "      <td>VERI</td>\n",
       "    </tr>\n",
       "    <tr>\n",
       "      <th>97</th>\n",
       "      <td>Dentacoin</td>\n",
       "      <td>0.000377</td>\n",
       "      <td>98</td>\n",
       "      <td>DCN</td>\n",
       "    </tr>\n",
       "    <tr>\n",
       "      <th>98</th>\n",
       "      <td>Gemini Dollar</td>\n",
       "      <td>3.912848</td>\n",
       "      <td>99</td>\n",
       "      <td>GUSD</td>\n",
       "    </tr>\n",
       "    <tr>\n",
       "      <th>99</th>\n",
       "      <td>Crypto.com</td>\n",
       "      <td>7.636440</td>\n",
       "      <td>100</td>\n",
       "      <td>MCO</td>\n",
       "    </tr>\n",
       "  </tbody>\n",
       "</table>\n",
       "<p>100 rows × 4 columns</p>\n",
       "</div>"
      ],
      "text/plain": [
       "                nome      preço R$  rank símbolo\n",
       "0            Bitcoin  14483.144475     1     BTC\n",
       "1                XRP      1.351799     2     XRP\n",
       "2           Ethereum    406.417601     3     ETH\n",
       "3       Bitcoin Cash    675.738005     4     BCH\n",
       "4                EOS     11.498052     5     EOS\n",
       "5            Stellar      0.542135     6     XLM\n",
       "6             Tether      3.826800     7    USDT\n",
       "7           Litecoin    114.613638     8     LTC\n",
       "8         Bitcoin SV    361.938035     9     BSV\n",
       "9            Cardano      0.134749    10     ADA\n",
       "10            Monero    206.616147    11     XMR\n",
       "11              TRON      0.044642    12     TRX\n",
       "12              Dash    338.007028    13    DASH\n",
       "13              IOTA      1.024356    14   MIOTA\n",
       "14               NEM      0.279918    15     XEM\n",
       "15      Binance Coin     18.413350    16     BNB\n",
       "16  Ethereum Classic     16.674934    17     ETC\n",
       "17               NEO     26.909957    18     NEO\n",
       "18             Zcash    257.045336    19     ZEC\n",
       "19             Tezos      2.175680    20     XTZ\n",
       "20      Bitcoin Gold     68.622535    21     BTG\n",
       "21          Dogecoin      0.007910    22    DOGE\n",
       "22           VeChain      0.016436    23     VET\n",
       "23             Maker   1236.981139    24     MKR\n",
       "24          Ontology      2.862895    25     ONT\n",
       "25           TrueUSD      3.942289    26    TUSD\n",
       "26           OmiseGO      5.264204    27     OMG\n",
       "27                0x      1.335024    28     ZRX\n",
       "28          USD Coin      4.000213    29    USDC\n",
       "29            Decred     74.855091    30     DCR\n",
       "..               ...           ...   ...     ...\n",
       "70       Huobi Token      4.002761    71      HT\n",
       "71     KuCoin Shares      2.164843    72     KCS\n",
       "72     Insight Chain      1.094353    73     INB\n",
       "73          MonaCoin      2.830289    74    MONA\n",
       "74         Ravencoin      0.073485    75     RVN\n",
       "75              ODEM      0.773377    76     ODE\n",
       "76              MOAC      2.678933    77    MOAC\n",
       "77       Waltonchain      4.087790    78     WTC\n",
       "78          MobileGo      1.603332    79     MGO\n",
       "79        QuarkChain      0.193819    80     QKC\n",
       "80               Ark      1.426437    81     ARK\n",
       "81          Wanchain      1.404011    82     WAN\n",
       "82  SIRIN LABS Token      0.300292    83     SRN\n",
       "83           GXChain      2.441738    84     GXS\n",
       "84              PIVX      2.530279    85    PIVX\n",
       "85           Mithril      0.351725    86    MITH\n",
       "86         HyperCash      3.287934    87      HC\n",
       "87          Polymath      0.482262    88    POLY\n",
       "88            Bancor      2.403804    89     BNT\n",
       "89             Mixin    307.516966    90     XIN\n",
       "90       Theta Token      0.192173    91   THETA\n",
       "91          ReddCoin      0.004649    92     RDD\n",
       "92              Aion      0.481566    93    AION\n",
       "93          Loopring      0.159576    94     LRC\n",
       "94          DigixDAO     62.309578    95     DGD\n",
       "95           BOScoin      0.270052    96     BOS\n",
       "96        Veritaseum     60.258724    97    VERI\n",
       "97         Dentacoin      0.000377    98     DCN\n",
       "98     Gemini Dollar      3.912848    99    GUSD\n",
       "99        Crypto.com      7.636440   100     MCO\n",
       "\n",
       "[100 rows x 4 columns]"
      ]
     },
     "metadata": {},
     "output_type": "display_data"
    }
   ],
   "source": [
    "import requests\n",
    "import pandas as pd\n",
    "import json\n",
    "from IPython.display import display\n",
    "\n",
    "data_text = requests.get('https://api.coinmarketcap.com/v2/ticker/?convert=BRL').text\n",
    "data_json = json.loads(data_text)\n",
    "\n",
    "'''o que eu quero: data_json['data'][x][name, symbol, rank]['quotes']['BRL']['price']'''\n",
    "\n",
    "resp_list = []\n",
    "for k,v in data_json['data'].items():\n",
    "    resp = {}\n",
    "    resp[\"nome\"] = v[\"name\"]\n",
    "    resp[\"símbolo\"] = v[\"symbol\"]\n",
    "    resp[\"rank\"] = v[\"rank\"]\n",
    "    resp[\"preço R$\"] = v[\"quotes\"][\"BRL\"][\"price\"]\n",
    "    resp_list.append(resp)\n",
    "\n",
    "df = pd.DataFrame(resp_list)\n",
    "display(df)"
   ]
  },
  {
   "cell_type": "markdown",
   "metadata": {},
   "source": [
    "## Aplicando Python em DEA\n",
    "\n",
    "Podemos utilizar o Python para a Análise por Envoltória de Dados. Para isso, utilizaremos o método linprog da biblioteca \"scipy\". Adequaremos as entradas do simplex para que o resultado obtido seja o esperado no DEA.\n",
    "\n",
    "Abaixo anexarei as imagens referentes aos modelos para que possamos nos basear:\n",
    "\n",
    "![title](ccr.png)"
   ]
  },
  {
   "cell_type": "code",
   "execution_count": 31,
   "metadata": {},
   "outputs": [
    {
     "data": {
      "text/html": [
       "<h1>CCR Input</h1>"
      ],
      "text/plain": [
       "<IPython.core.display.HTML object>"
      ]
     },
     "metadata": {},
     "output_type": "display_data"
    },
    {
     "data": {
      "text/html": [
       "<div>\n",
       "<style scoped>\n",
       "    .dataframe tbody tr th:only-of-type {\n",
       "        vertical-align: middle;\n",
       "    }\n",
       "\n",
       "    .dataframe tbody tr th {\n",
       "        vertical-align: top;\n",
       "    }\n",
       "\n",
       "    .dataframe thead th {\n",
       "        text-align: right;\n",
       "    }\n",
       "</style>\n",
       "<table border=\"1\" class=\"dataframe\">\n",
       "  <thead>\n",
       "    <tr style=\"text-align: right;\">\n",
       "      <th></th>\n",
       "      <th>função objetivo</th>\n",
       "      <th>x1</th>\n",
       "      <th>x2</th>\n",
       "      <th>y1</th>\n",
       "      <th>y2</th>\n",
       "    </tr>\n",
       "  </thead>\n",
       "  <tbody>\n",
       "    <tr>\n",
       "      <th>0</th>\n",
       "      <td>1.000000</td>\n",
       "      <td>0.0</td>\n",
       "      <td>0.006623</td>\n",
       "      <td>0.002822</td>\n",
       "      <td>0.007976</td>\n",
       "    </tr>\n",
       "    <tr>\n",
       "      <th>1</th>\n",
       "      <td>0.963411</td>\n",
       "      <td>0.0</td>\n",
       "      <td>0.007634</td>\n",
       "      <td>0.006423</td>\n",
       "      <td>0.000000</td>\n",
       "    </tr>\n",
       "    <tr>\n",
       "      <th>2</th>\n",
       "      <td>0.841379</td>\n",
       "      <td>0.0</td>\n",
       "      <td>0.006250</td>\n",
       "      <td>0.005259</td>\n",
       "      <td>0.000000</td>\n",
       "    </tr>\n",
       "    <tr>\n",
       "      <th>3</th>\n",
       "      <td>0.972671</td>\n",
       "      <td>0.0</td>\n",
       "      <td>0.005952</td>\n",
       "      <td>0.002536</td>\n",
       "      <td>0.007169</td>\n",
       "    </tr>\n",
       "    <tr>\n",
       "      <th>4</th>\n",
       "      <td>0.756577</td>\n",
       "      <td>0.0</td>\n",
       "      <td>0.006329</td>\n",
       "      <td>0.002697</td>\n",
       "      <td>0.007622</td>\n",
       "    </tr>\n",
       "    <tr>\n",
       "      <th>5</th>\n",
       "      <td>0.809378</td>\n",
       "      <td>0.0</td>\n",
       "      <td>0.003922</td>\n",
       "      <td>0.001671</td>\n",
       "      <td>0.004723</td>\n",
       "    </tr>\n",
       "    <tr>\n",
       "      <th>6</th>\n",
       "      <td>0.849880</td>\n",
       "      <td>0.0</td>\n",
       "      <td>0.004255</td>\n",
       "      <td>0.001813</td>\n",
       "      <td>0.005125</td>\n",
       "    </tr>\n",
       "    <tr>\n",
       "      <th>7</th>\n",
       "      <td>0.782102</td>\n",
       "      <td>0.0</td>\n",
       "      <td>0.004854</td>\n",
       "      <td>0.002068</td>\n",
       "      <td>0.005846</td>\n",
       "    </tr>\n",
       "    <tr>\n",
       "      <th>8</th>\n",
       "      <td>1.000000</td>\n",
       "      <td>0.0</td>\n",
       "      <td>0.004098</td>\n",
       "      <td>0.003448</td>\n",
       "      <td>0.000000</td>\n",
       "    </tr>\n",
       "    <tr>\n",
       "      <th>9</th>\n",
       "      <td>0.846853</td>\n",
       "      <td>0.0</td>\n",
       "      <td>0.003731</td>\n",
       "      <td>0.001590</td>\n",
       "      <td>0.004494</td>\n",
       "    </tr>\n",
       "    <tr>\n",
       "      <th>10</th>\n",
       "      <td>0.943379</td>\n",
       "      <td>0.0</td>\n",
       "      <td>0.003268</td>\n",
       "      <td>0.001392</td>\n",
       "      <td>0.003936</td>\n",
       "    </tr>\n",
       "    <tr>\n",
       "      <th>11</th>\n",
       "      <td>0.883956</td>\n",
       "      <td>0.0</td>\n",
       "      <td>0.003521</td>\n",
       "      <td>0.001500</td>\n",
       "      <td>0.004241</td>\n",
       "    </tr>\n",
       "  </tbody>\n",
       "</table>\n",
       "</div>"
      ],
      "text/plain": [
       "    função objetivo   x1        x2        y1        y2\n",
       "0          1.000000  0.0  0.006623  0.002822  0.007976\n",
       "1          0.963411  0.0  0.007634  0.006423  0.000000\n",
       "2          0.841379  0.0  0.006250  0.005259  0.000000\n",
       "3          0.972671  0.0  0.005952  0.002536  0.007169\n",
       "4          0.756577  0.0  0.006329  0.002697  0.007622\n",
       "5          0.809378  0.0  0.003922  0.001671  0.004723\n",
       "6          0.849880  0.0  0.004255  0.001813  0.005125\n",
       "7          0.782102  0.0  0.004854  0.002068  0.005846\n",
       "8          1.000000  0.0  0.004098  0.003448  0.000000\n",
       "9          0.846853  0.0  0.003731  0.001590  0.004494\n",
       "10         0.943379  0.0  0.003268  0.001392  0.003936\n",
       "11         0.883956  0.0  0.003521  0.001500  0.004241"
      ]
     },
     "metadata": {},
     "output_type": "display_data"
    },
    {
     "data": {
      "text/html": [
       "<h1>CCR Output</h1>"
      ],
      "text/plain": [
       "<IPython.core.display.HTML object>"
      ]
     },
     "metadata": {},
     "output_type": "display_data"
    },
    {
     "data": {
      "text/html": [
       "<p style='color: red;'> Não fiz o inverso do FO para vermos\n",
       "            resultado do output</p>"
      ],
      "text/plain": [
       "<IPython.core.display.HTML object>"
      ]
     },
     "metadata": {},
     "output_type": "display_data"
    },
    {
     "data": {
      "text/html": [
       "<div>\n",
       "<style scoped>\n",
       "    .dataframe tbody tr th:only-of-type {\n",
       "        vertical-align: middle;\n",
       "    }\n",
       "\n",
       "    .dataframe tbody tr th {\n",
       "        vertical-align: top;\n",
       "    }\n",
       "\n",
       "    .dataframe thead th {\n",
       "        text-align: right;\n",
       "    }\n",
       "</style>\n",
       "<table border=\"1\" class=\"dataframe\">\n",
       "  <thead>\n",
       "    <tr style=\"text-align: right;\">\n",
       "      <th></th>\n",
       "      <th>.resultado funcobj</th>\n",
       "      <th>função objetivo</th>\n",
       "      <th>x1</th>\n",
       "      <th>x2</th>\n",
       "      <th>y1</th>\n",
       "      <th>y2</th>\n",
       "    </tr>\n",
       "  </thead>\n",
       "  <tbody>\n",
       "    <tr>\n",
       "      <th>0</th>\n",
       "      <td>1.000000</td>\n",
       "      <td>1.000000</td>\n",
       "      <td>0.0</td>\n",
       "      <td>0.006623</td>\n",
       "      <td>0.002822</td>\n",
       "      <td>0.007976</td>\n",
       "    </tr>\n",
       "    <tr>\n",
       "      <th>1</th>\n",
       "      <td>1.037978</td>\n",
       "      <td>0.963411</td>\n",
       "      <td>0.0</td>\n",
       "      <td>0.007923</td>\n",
       "      <td>0.006667</td>\n",
       "      <td>0.000000</td>\n",
       "    </tr>\n",
       "    <tr>\n",
       "      <th>2</th>\n",
       "      <td>1.188525</td>\n",
       "      <td>0.841379</td>\n",
       "      <td>0.0</td>\n",
       "      <td>0.007428</td>\n",
       "      <td>0.006250</td>\n",
       "      <td>0.000000</td>\n",
       "    </tr>\n",
       "    <tr>\n",
       "      <th>3</th>\n",
       "      <td>1.028097</td>\n",
       "      <td>0.972671</td>\n",
       "      <td>0.0</td>\n",
       "      <td>0.006120</td>\n",
       "      <td>0.002607</td>\n",
       "      <td>0.007370</td>\n",
       "    </tr>\n",
       "    <tr>\n",
       "      <th>4</th>\n",
       "      <td>1.321743</td>\n",
       "      <td>0.756577</td>\n",
       "      <td>0.0</td>\n",
       "      <td>0.008365</td>\n",
       "      <td>0.003564</td>\n",
       "      <td>0.010075</td>\n",
       "    </tr>\n",
       "    <tr>\n",
       "      <th>5</th>\n",
       "      <td>1.235517</td>\n",
       "      <td>0.809378</td>\n",
       "      <td>0.0</td>\n",
       "      <td>0.004845</td>\n",
       "      <td>0.002064</td>\n",
       "      <td>0.005835</td>\n",
       "    </tr>\n",
       "    <tr>\n",
       "      <th>6</th>\n",
       "      <td>1.176637</td>\n",
       "      <td>0.849880</td>\n",
       "      <td>0.0</td>\n",
       "      <td>0.005007</td>\n",
       "      <td>0.002133</td>\n",
       "      <td>0.006030</td>\n",
       "    </tr>\n",
       "    <tr>\n",
       "      <th>7</th>\n",
       "      <td>1.278605</td>\n",
       "      <td>0.782102</td>\n",
       "      <td>0.0</td>\n",
       "      <td>0.006207</td>\n",
       "      <td>0.002645</td>\n",
       "      <td>0.007475</td>\n",
       "    </tr>\n",
       "    <tr>\n",
       "      <th>8</th>\n",
       "      <td>1.000000</td>\n",
       "      <td>1.000000</td>\n",
       "      <td>0.0</td>\n",
       "      <td>0.004098</td>\n",
       "      <td>0.001746</td>\n",
       "      <td>0.004936</td>\n",
       "    </tr>\n",
       "    <tr>\n",
       "      <th>9</th>\n",
       "      <td>1.180843</td>\n",
       "      <td>0.846853</td>\n",
       "      <td>0.0</td>\n",
       "      <td>0.004406</td>\n",
       "      <td>0.001877</td>\n",
       "      <td>0.005307</td>\n",
       "    </tr>\n",
       "    <tr>\n",
       "      <th>10</th>\n",
       "      <td>1.060020</td>\n",
       "      <td>0.943379</td>\n",
       "      <td>0.0</td>\n",
       "      <td>0.003464</td>\n",
       "      <td>0.001476</td>\n",
       "      <td>0.004172</td>\n",
       "    </tr>\n",
       "    <tr>\n",
       "      <th>11</th>\n",
       "      <td>1.131278</td>\n",
       "      <td>0.883956</td>\n",
       "      <td>0.0</td>\n",
       "      <td>0.003983</td>\n",
       "      <td>0.001697</td>\n",
       "      <td>0.004797</td>\n",
       "    </tr>\n",
       "  </tbody>\n",
       "</table>\n",
       "</div>"
      ],
      "text/plain": [
       "    .resultado funcobj  função objetivo   x1        x2        y1        y2\n",
       "0             1.000000         1.000000  0.0  0.006623  0.002822  0.007976\n",
       "1             1.037978         0.963411  0.0  0.007923  0.006667  0.000000\n",
       "2             1.188525         0.841379  0.0  0.007428  0.006250  0.000000\n",
       "3             1.028097         0.972671  0.0  0.006120  0.002607  0.007370\n",
       "4             1.321743         0.756577  0.0  0.008365  0.003564  0.010075\n",
       "5             1.235517         0.809378  0.0  0.004845  0.002064  0.005835\n",
       "6             1.176637         0.849880  0.0  0.005007  0.002133  0.006030\n",
       "7             1.278605         0.782102  0.0  0.006207  0.002645  0.007475\n",
       "8             1.000000         1.000000  0.0  0.004098  0.001746  0.004936\n",
       "9             1.180843         0.846853  0.0  0.004406  0.001877  0.005307\n",
       "10            1.060020         0.943379  0.0  0.003464  0.001476  0.004172\n",
       "11            1.131278         0.883956  0.0  0.003983  0.001697  0.004797"
      ]
     },
     "metadata": {},
     "output_type": "display_data"
    },
    {
     "data": {
      "text/html": [
       "<h3>Quando o código roda</h3>"
      ],
      "text/plain": [
       "<IPython.core.display.HTML object>"
      ]
     },
     "metadata": {},
     "output_type": "display_data"
    },
    {
     "data": {
      "text/html": [
       "<img src=\"so_good.png\" style=\"width: 35%;\">"
      ],
      "text/plain": [
       "<IPython.core.display.HTML object>"
      ]
     },
     "metadata": {},
     "output_type": "display_data"
    }
   ],
   "source": [
    "from scipy.optimize import linprog as dea\n",
    "import json\n",
    "import pandas as pd\n",
    "from IPython.display import HTML\n",
    "\n",
    "exemplo =  [\n",
    "        [20,151,100,90],\n",
    "        [19,131,150,50], \n",
    "        [25,160,160,55], \n",
    "        [27,168,180,72],  \n",
    "        [22,158,94,66],   \n",
    "        [55,255,230,90],  \n",
    "        [33,235,220,88], \n",
    "        [31,206,152,80],  \n",
    "        [30,244,290,100], \n",
    "        [50,268,250,100],\n",
    "        [53,306,262,147], \n",
    "        [38,284,250,120]  \n",
    "    ]\n",
    "# ccr input\n",
    "\n",
    "# primeiro copiaremos o exemplo com as entradas negativas\n",
    "# para se adequar a inequação <= 0\n",
    "ccr_ab = []\n",
    "for line in exemplo:\n",
    "    ccr_ab.append(\n",
    "        [-x for x in line[:2]] + line[2::]\n",
    "    )\n",
    "\n",
    "#declaração das variáveis que irão segurar os resultados DEA\n",
    "resultado_inp = []\n",
    "resultado_out = []\n",
    "#Agora entramos no laço do DEA\n",
    "for line in ccr_ab:\n",
    "    # equação a ser maximizada para input\n",
    "    max_ = [0 for x in range(2)] + [-x for x in line[2::]]\n",
    "    #minimizada para output\n",
    "    min_ = [-x for x in line[0:2]] + [0 for x in range(2)]\n",
    "    #equação linear para input\n",
    "    linear_inp = [-x for x in line[0:2]] + [0 for x in range(2)]\n",
    "    #para output\n",
    "    linear_out = [0 for x in range(2)] + line[2::]\n",
    "    #armazenamos o resultado do dea para input de cada iteração\n",
    "    res_dea_inp = dea(max_, ccr_ab, [0 for x in range(12)], [linear_inp], [1])\n",
    "    #o mesmo para output\n",
    "    res_dea_out = dea(min_, ccr_ab, [0 for x in range(12)], [linear_out], [1])\n",
    "    #incrementamos nossa matriz de resposta com o resultado de cada iteração\n",
    "    #fazemos em forma de dicionário para exibi-lo no nosso dataframe\n",
    "    resultado_inp.append(\n",
    "        {\n",
    "            \"função objetivo\" : -res_dea_inp['fun'],\n",
    "            \"x1\" : res_dea_inp['x'][0],\n",
    "            \"x2\" : res_dea_inp['x'][1],\n",
    "            \"y1\" : res_dea_inp['x'][2],\n",
    "            \"y2\" : res_dea_inp['x'][3]\n",
    "        }\n",
    "    )\n",
    "    #mesmo para output\n",
    "    resultado_out.append(\n",
    "        {\n",
    "            \".resultado funcobj\" : res_dea_out['fun'],\n",
    "            \"função objetivo\" : 1/res_dea_out['fun'],\n",
    "            \"x1\" : res_dea_out['x'][0],\n",
    "            \"x2\" : res_dea_out['x'][1],\n",
    "            \"y1\" : res_dea_out['x'][2],\n",
    "            \"y2\" : res_dea_out['x'][3]\n",
    "        }\n",
    "    )\n",
    "    \n",
    "#Aqui criamos o dataframe\n",
    "df_inp = pd.DataFrame(resultado_inp)\n",
    "df_out = pd.DataFrame(resultado_out);\n",
    "display(HTML('<h1>CCR Input</h1>'),\n",
    "        df_inp, HTML('<h1>CCR Output</h1>'),\n",
    "        HTML('''<p style='color: red;'> Não fiz o inverso do FO para vermos\n",
    "            resultado do output</p>'''),\n",
    "        df_out,\n",
    "        HTML('<h3>Quando o código roda</h3>'),\n",
    "        HTML('<img src=\"so_good.png\" style=\"width: 35%;\">'))"
   ]
  }
 ],
 "metadata": {
  "kernelspec": {
   "display_name": "Python 3",
   "language": "python",
   "name": "python3"
  },
  "language_info": {
   "codemirror_mode": {
    "name": "ipython",
    "version": 3
   },
   "file_extension": ".py",
   "mimetype": "text/x-python",
   "name": "python",
   "nbconvert_exporter": "python",
   "pygments_lexer": "ipython3",
   "version": "3.6.7"
  }
 },
 "nbformat": 4,
 "nbformat_minor": 2
}
